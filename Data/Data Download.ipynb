{
 "cells": [
  {
   "cell_type": "code",
   "execution_count": null,
   "id": "131bf107-e7e7-4665-b991-84758347f67f",
   "metadata": {},
   "outputs": [],
   "source": [
    "import kagglehub\n",
    "import shutil\n",
    "import os\n",
    "\n",
    "print(\"Downloading BTC dataset...\")\n",
    "path = kagglehub.dataset_download(\"mczielinski/bitcoin-historical-data\")\n",
    "\n",
    "target_dir = \"Data\"\n",
    "os.makedirs(target_dir, exist_ok=True)\n",
    "\n",
    "for file_name in os.listdir(path):\n",
    "    shutil.copy2(os.path.join(path, file_name), os.path.join(target_dir, file_name))\n",
    "\n",
    "print(\"Dataset saved to Data/\")\n"
   ]
  }
 ],
 "metadata": {
  "kernelspec": {
   "display_name": "Python 3 (ipykernel)",
   "language": "python",
   "name": "python3"
  },
  "language_info": {
   "codemirror_mode": {
    "name": "ipython",
    "version": 3
   },
   "file_extension": ".py",
   "mimetype": "text/x-python",
   "name": "python",
   "nbconvert_exporter": "python",
   "pygments_lexer": "ipython3",
   "version": "3.12.5"
  }
 },
 "nbformat": 4,
 "nbformat_minor": 5
}
